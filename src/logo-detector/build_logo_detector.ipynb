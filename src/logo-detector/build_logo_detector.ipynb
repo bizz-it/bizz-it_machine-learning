{
 "cells": [
  {
   "cell_type": "code",
   "execution_count": 1,
   "metadata": {},
   "outputs": [
    {
     "name": "stderr",
     "output_type": "stream",
     "text": [
      "2023-05-26 12:38:48.739871: I tensorflow/tsl/cuda/cudart_stub.cc:28] Could not find cuda drivers on your machine, GPU will not be used.\n",
      "2023-05-26 12:38:48.910209: I tensorflow/tsl/cuda/cudart_stub.cc:28] Could not find cuda drivers on your machine, GPU will not be used.\n",
      "2023-05-26 12:38:48.910775: I tensorflow/core/platform/cpu_feature_guard.cc:182] This TensorFlow binary is optimized to use available CPU instructions in performance-critical operations.\n",
      "To enable the following instructions: AVX2 FMA, in other operations, rebuild TensorFlow with the appropriate compiler flags.\n",
      "2023-05-26 12:38:50.051602: W tensorflow/compiler/tf2tensorrt/utils/py_utils.cc:38] TF-TRT Warning: Could not find TensorRT\n"
     ]
    }
   ],
   "source": [
    "import time\n",
    "import tensorflow as tf\n",
    "from object_detection.utils import label_map_util\n",
    "from object_detection.utils import visualization_utils as viz_utils"
   ]
  },
  {
   "cell_type": "code",
   "execution_count": null,
   "metadata": {},
   "outputs": [],
   "source": [
    "!ls"
   ]
  },
  {
   "cell_type": "code",
   "execution_count": null,
   "metadata": {},
   "outputs": [],
   "source": [
    "!python model_main_tf2.py --model_dir=output/ --pipeline_config_path=ssd_mobilenet_v2_ft/pipeline.config"
   ]
  },
  {
   "cell_type": "code",
   "execution_count": null,
   "metadata": {},
   "outputs": [],
   "source": [
    "!python exporter_main_v2.py --input_type image_tensor --pipeline_config_path ssd_mobilenet_v2/pipeline.config --trained_checkpoint_dir src/output/ --output_directory src/ssd_mobilenet_v2_ft2"
   ]
  },
  {
   "cell_type": "code",
   "execution_count": 2,
   "metadata": {},
   "outputs": [],
   "source": [
    "PATH_TO_MODEL_DIR = 'efficientnet512_ft/'\n",
    "PATH_TO_LABELS = '/home/irizqy/ml_ws/bangkit-ws/data/label_map.pbtxt'"
   ]
  },
  {
   "cell_type": "code",
   "execution_count": 3,
   "metadata": {},
   "outputs": [
    {
     "name": "stdout",
     "output_type": "stream",
     "text": [
      "Loading model..."
     ]
    },
    {
     "name": "stderr",
     "output_type": "stream",
     "text": [
      "2023-05-26 12:38:54.090121: I tensorflow/compiler/xla/stream_executor/cuda/cuda_gpu_executor.cc:996] successful NUMA node read from SysFS had negative value (-1), but there must be at least one NUMA node, so returning NUMA node zero. See more at https://github.com/torvalds/linux/blob/v6.0/Documentation/ABI/testing/sysfs-bus-pci#L344-L355\n",
      "2023-05-26 12:38:54.090526: W tensorflow/core/common_runtime/gpu/gpu_device.cc:1956] Cannot dlopen some GPU libraries. Please make sure the missing libraries mentioned above are installed properly if you would like to use GPU. Follow the guide at https://www.tensorflow.org/install/gpu for how to download and setup the required libraries for your platform.\n",
      "Skipping registering GPU devices...\n"
     ]
    },
    {
     "name": "stdout",
     "output_type": "stream",
     "text": [
      "Done! Took 18.307851552963257 seconds\n"
     ]
    }
   ],
   "source": [
    "PATH_TO_SAVED_MODEL = PATH_TO_MODEL_DIR + \"saved_model\"\n",
    "\n",
    "print('Loading model...', end='')\n",
    "start_time = time.time()\n",
    "\n",
    "# Load saved model and build the detection function\n",
    "detect_fn = tf.saved_model.load(PATH_TO_SAVED_MODEL)\n",
    "\n",
    "end_time = time.time()\n",
    "elapsed_time = end_time - start_time\n",
    "print('Done! Took {} seconds'.format(elapsed_time))"
   ]
  },
  {
   "cell_type": "code",
   "execution_count": 4,
   "metadata": {},
   "outputs": [],
   "source": [
    "category_index = label_map_util.create_category_index_from_labelmap(PATH_TO_LABELS,\n",
    "                                                                    use_display_name=True)"
   ]
  },
  {
   "cell_type": "code",
   "execution_count": 17,
   "metadata": {},
   "outputs": [
    {
     "name": "stdout",
     "output_type": "stream",
     "text": [
      "Running inference for /home/irizqy/ml_ws/bangkit-ws/data/test/7_20230510_161041.jpg... defaultdict(<class 'str'>, {})\n",
      "Done\n",
      "Running inference for /home/irizqy/ml_ws/bangkit-ws/data/test/17_20230507_092258.jpg... defaultdict(<class 'str'>, {(0.37275806069374084, 0.12145353853702545, 0.5225242376327515, 0.3400805592536926): 'Chartreuse', (0.36121851205825806, 0.35893332958221436, 0.5373385548591614, 0.8045828342437744): 'Aqua', (0.646271288394928, 0.28119826316833496, 0.7014930844306946, 0.42326074838638306): 'Aqua'})\n",
      "Done\n",
      "Running inference for /home/irizqy/ml_ws/bangkit-ws/data/test/31_20230510_161931.jpg... defaultdict(<class 'str'>, {(0.13620814681053162, 0.3898668587207794, 0.3163815140724182, 0.6464215517044067): 'Chartreuse'})\n",
      "Done\n"
     ]
    }
   ],
   "source": [
    "import numpy as np\n",
    "from PIL import Image\n",
    "import matplotlib.pyplot as plt\n",
    "import warnings\n",
    "import os\n",
    "\n",
    "\n",
    "rand_im = np.random.choice(os.listdir('/home/irizqy/ml_ws/bangkit-ws/data/test'), 3)\n",
    "rand_im\n",
    "\n",
    "BASED_PATH = '/home/irizqy/ml_ws/bangkit-ws/data/test'\n",
    "IMAGE_PATHS = [os.path.join(BASED_PATH, im) for im in rand_im]\n",
    "IMAGE_PATHS\n",
    "\n",
    "warnings.filterwarnings('ignore')   # Suppress Matplotlib warnings\n",
    "count = 0\n",
    "\n",
    "def load_image_into_numpy_array(path):\n",
    "    \"\"\"Load an image from file into a numpy array.\n",
    "\n",
    "    Puts image into numpy array to feed into tensorflow graph.\n",
    "    Note that by convention we put it into a numpy array with shape\n",
    "    (height, width, channels), where channels=3 for RGB.\n",
    "\n",
    "    Args:\n",
    "      path: the file path to the image\n",
    "\n",
    "    Returns:\n",
    "      uint8 numpy array with shape (img_height, img_width, 3)\n",
    "    \"\"\"\n",
    "    return np.array(Image.open(path))\n",
    "\n",
    "\n",
    "for image_path in IMAGE_PATHS:\n",
    "\n",
    "    print('Running inference for {}... '.format(image_path), end='')\n",
    "\n",
    "    image_np = load_image_into_numpy_array(image_path)\n",
    "    \n",
    "    if image_np.shape[2] == 4:\n",
    "        image_np = image_np[:, :, :3]\n",
    "\n",
    "    # Things to try:\n",
    "    # Flip horizontally\n",
    "    # image_np = np.fliplr(image_np).copy()\n",
    "\n",
    "    # Convert image to grayscale\n",
    "    # image_np = np.tile(\n",
    "    #     np.mean(image_np, 2, keepdims=True), (1, 1, 3)).astype(np.uint8)\n",
    "\n",
    "    # The input needs to be a tensor, convert it using `tf.convert_to_tensor`.\n",
    "    input_tensor = tf.convert_to_tensor(image_np)\n",
    "    # The model expects a batch of images, so add an axis with `tf.newaxis`.\n",
    "    input_tensor = input_tensor[tf.newaxis, ...]\n",
    "\n",
    "    # input_tensor = np.expand_dims(image_np, 0)\n",
    "    detections = detect_fn(input_tensor)\n",
    "    # print(detections)\n",
    "\n",
    "    # All outputs are batches tensors.\n",
    "    # Convert to numpy arrays, and take index [0] to remove the batch dimension.\n",
    "    # We're only interested in the first num_detections.\n",
    "    num_detections = int(detections.pop('num_detections'))\n",
    "    detections = {key: value[0, :num_detections].numpy()\n",
    "                   for key, value in detections.items()}\n",
    "    detections['num_detections'] = num_detections\n",
    "\n",
    "    # detection_classes should be ints.\n",
    "    detections['detection_classes'] = detections['detection_classes'].astype(np.int64)\n",
    "\n",
    "    image_np_with_detections = image_np.copy()\n",
    "\n",
    "    viz_utils.visualize_boxes_and_labels_on_image_array(\n",
    "          image_np_with_detections,\n",
    "          detections['detection_boxes'],\n",
    "          detections['detection_classes'],\n",
    "          detections['detection_scores'],\n",
    "          category_index,\n",
    "          use_normalized_coordinates=True,\n",
    "          max_boxes_to_draw=200,\n",
    "          min_score_thresh=.35,\n",
    "          agnostic_mode=False)\n",
    "\n",
    "    plt.figure()\n",
    "    plt.imshow(image_np_with_detections)\n",
    "    im = Image.fromarray(image_np_with_detections)\n",
    "    im.save(f\"detected-logo2{count}.jpeg\")\n",
    "    count+=1\n",
    "    print('Done')\n",
    "    plt.show()\n",
    "\n",
    "# sphinx_gallery_thumbnail_number = 2"
   ]
  },
  {
   "cell_type": "code",
   "execution_count": 29,
   "metadata": {},
   "outputs": [],
   "source": [
    "import cv2 as cv"
   ]
  },
  {
   "cell_type": "code",
   "execution_count": 43,
   "metadata": {},
   "outputs": [],
   "source": [
    "width, height, _ = image_np.shape"
   ]
  },
  {
   "cell_type": "code",
   "execution_count": 15,
   "metadata": {},
   "outputs": [
    {
     "name": "stdout",
     "output_type": "stream",
     "text": [
      "[0.8888465  0.7940105  0.5593475  0.35204446 0.3131805  0.20242946\n",
      " 0.20069684 0.15278015 0.14918803 0.13627309 0.12885123 0.12286025\n",
      " 0.12188619 0.10864077 0.10621609 0.09073407 0.08411635 0.08162455\n",
      " 0.081135   0.07932451 0.07764754 0.07757568 0.07507224 0.07210369\n",
      " 0.07101718 0.06686036 0.06514898 0.06316725 0.06234721 0.05784463\n",
      " 0.05766162 0.05717769 0.05652346 0.05472551 0.05293413 0.05291624\n",
      " 0.05270847 0.05181587 0.04982031 0.0494574  0.04910188 0.04868054\n",
      " 0.04734084 0.04691124 0.04607559 0.04591864 0.04591481 0.04541697\n",
      " 0.04508835 0.04457164 0.04418835 0.04366131 0.04310258 0.04210387\n",
      " 0.04198137 0.04126276 0.04100103 0.04066778 0.04019002 0.03998356\n",
      " 0.03944269 0.03932796 0.03872728 0.03852287 0.03847083 0.03838234\n",
      " 0.03831089 0.03799472 0.03677043 0.03671165 0.0355898  0.03538756\n",
      " 0.03533013 0.03506214 0.03430734 0.03410344 0.03400818 0.0334891\n",
      " 0.03273807 0.03230138 0.03210539 0.03207373 0.03169188 0.03165837\n",
      " 0.03160166 0.03134772 0.03094308 0.03072072 0.03054597 0.03052688\n",
      " 0.02966866 0.0295875  0.02957817 0.02935482 0.02935364 0.02909159\n",
      " 0.02909091 0.02877716 0.02873887 0.02870063]\n"
     ]
    }
   ],
   "source": [
    "print(detections['detection_scores'])"
   ]
  },
  {
   "attachments": {},
   "cell_type": "markdown",
   "metadata": {},
   "source": [
    "raw_detection_boxes <br>\n",
    "detection_scores<br>\n",
    "detection_boxes<br>\n",
    "detection_anchor_indices<br>\n",
    "raw_detection_scores<br>\n",
    "detection_classes<br>\n",
    "detection_multiclass_scores<br>\n",
    "num_detections"
   ]
  },
  {
   "cell_type": "code",
   "execution_count": 44,
   "metadata": {},
   "outputs": [
    {
     "name": "stdout",
     "output_type": "stream",
     "text": [
      "137 287 29 78\n"
     ]
    }
   ],
   "source": [
    "ymin, xmin, ymax, xmax = detections['detection_boxes'][0]\n",
    "(left, right, top, bottom) = (xmin*width, xmax*width, ymin*height, ymax*height)\n",
    "print(int(left), int(right), int(top), int(bottom))"
   ]
  },
  {
   "cell_type": "code",
   "execution_count": 40,
   "metadata": {},
   "outputs": [],
   "source": [
    "im = cv.rectangle(image_np, (int(left), int(top)), (int(right), int(bottom)), (0, 255, 0), 3)\n",
    "Image.fromarray(im).save('test.jpg')"
   ]
  },
  {
   "cell_type": "code",
   "execution_count": 45,
   "metadata": {},
   "outputs": [],
   "source": [
    "cropped_im = image_np[int(top):int(bottom), int(left):int(right)]\n",
    "Image.fromarray(cropped_im).save('cropped-logo.jpg')\n"
   ]
  }
 ],
 "metadata": {
  "kernelspec": {
   "display_name": "bangkit-ws",
   "language": "python",
   "name": "python3"
  },
  "language_info": {
   "codemirror_mode": {
    "name": "ipython",
    "version": 3
   },
   "file_extension": ".py",
   "mimetype": "text/x-python",
   "name": "python",
   "nbconvert_exporter": "python",
   "pygments_lexer": "ipython3",
   "version": "3.9.16"
  },
  "orig_nbformat": 4
 },
 "nbformat": 4,
 "nbformat_minor": 2
}
