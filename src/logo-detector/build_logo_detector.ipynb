{
 "cells": [
  {
   "cell_type": "code",
   "execution_count": 1,
   "metadata": {},
   "outputs": [
    {
     "name": "stderr",
     "output_type": "stream",
     "text": [
      "2023-06-06 23:23:05.666927: I tensorflow/tsl/cuda/cudart_stub.cc:28] Could not find cuda drivers on your machine, GPU will not be used.\n",
      "2023-06-06 23:23:05.698120: I tensorflow/tsl/cuda/cudart_stub.cc:28] Could not find cuda drivers on your machine, GPU will not be used.\n",
      "2023-06-06 23:23:05.698499: I tensorflow/core/platform/cpu_feature_guard.cc:182] This TensorFlow binary is optimized to use available CPU instructions in performance-critical operations.\n",
      "To enable the following instructions: AVX2 FMA, in other operations, rebuild TensorFlow with the appropriate compiler flags.\n",
      "2023-06-06 23:23:06.515106: W tensorflow/compiler/tf2tensorrt/utils/py_utils.cc:38] TF-TRT Warning: Could not find TensorRT\n"
     ]
    }
   ],
   "source": [
    "import time\n",
    "import tensorflow as tf\n",
    "from object_detection.utils import label_map_util\n",
    "from object_detection.utils import visualization_utils as viz_utils"
   ]
  },
  {
   "cell_type": "code",
   "execution_count": null,
   "metadata": {},
   "outputs": [],
   "source": [
    "!ls"
   ]
  },
  {
   "cell_type": "code",
   "execution_count": null,
   "metadata": {},
   "outputs": [],
   "source": [
    "!python model_main_tf2.py --model_dir=output/ --pipeline_config_path=ssd_mobilenet_v2_ft/pipeline.config"
   ]
  },
  {
   "cell_type": "code",
   "execution_count": null,
   "metadata": {},
   "outputs": [],
   "source": [
    "!python exporter_main_v2.py --input_type image_tensor --pipeline_config_path ssd_mobilenet_v2/pipeline.config --trained_checkpoint_dir src/output/ --output_directory src/ssd_mobilenet_v2_ft2"
   ]
  },
  {
   "cell_type": "code",
   "execution_count": 2,
   "metadata": {},
   "outputs": [],
   "source": [
    "PATH_TO_MODEL_DIR = 'efficientnet512_ft/'\n",
    "PATH_TO_LABELS = '/home/irizqy/ml_ws/bangkit-ws/data/label_map.pbtxt'"
   ]
  },
  {
   "cell_type": "code",
   "execution_count": 3,
   "metadata": {},
   "outputs": [
    {
     "name": "stdout",
     "output_type": "stream",
     "text": [
      "Loading model..."
     ]
    },
    {
     "name": "stderr",
     "output_type": "stream",
     "text": [
      "2023-06-06 23:23:10.552291: I tensorflow/compiler/xla/stream_executor/cuda/cuda_gpu_executor.cc:996] successful NUMA node read from SysFS had negative value (-1), but there must be at least one NUMA node, so returning NUMA node zero. See more at https://github.com/torvalds/linux/blob/v6.0/Documentation/ABI/testing/sysfs-bus-pci#L344-L355\n",
      "2023-06-06 23:23:10.553132: W tensorflow/core/common_runtime/gpu/gpu_device.cc:1956] Cannot dlopen some GPU libraries. Please make sure the missing libraries mentioned above are installed properly if you would like to use GPU. Follow the guide at https://www.tensorflow.org/install/gpu for how to download and setup the required libraries for your platform.\n",
      "Skipping registering GPU devices...\n"
     ]
    },
    {
     "name": "stdout",
     "output_type": "stream",
     "text": [
      "Done! Took 18.03534507751465 seconds\n"
     ]
    }
   ],
   "source": [
    "PATH_TO_SAVED_MODEL = PATH_TO_MODEL_DIR + \"saved_model\"\n",
    "\n",
    "print('Loading model...', end='')\n",
    "start_time = time.time()\n",
    "\n",
    "# Load saved model and build the detection function\n",
    "detect_fn = tf.saved_model.load(PATH_TO_SAVED_MODEL)\n",
    "\n",
    "end_time = time.time()\n",
    "elapsed_time = end_time - start_time\n",
    "print('Done! Took {} seconds'.format(elapsed_time))"
   ]
  },
  {
   "cell_type": "code",
   "execution_count": 6,
   "metadata": {},
   "outputs": [],
   "source": [
    "category_index = label_map_util.create_category_index_from_labelmap(PATH_TO_LABELS,\n",
    "                                                                    use_display_name=True)"
   ]
  },
  {
   "cell_type": "code",
   "execution_count": 12,
   "metadata": {},
   "outputs": [
    {
     "name": "stdout",
     "output_type": "stream",
     "text": [
      "Running inference for /home/irizqy/ml_ws/bangkit-ws/data/test/25_20230507_092258.jpg... defaultdict(<class 'str'>, {(0.3572155833244324, 0.12918847799301147, 0.5184792280197144, 0.3359139561653137): 'Chartreuse', (0.34423086047172546, 0.36981093883514404, 0.5366073846817017, 0.8243287801742554): 'Chartreuse', (0.6441798806190491, 0.2819415330886841, 0.699314296245575, 0.4230361580848694): 'Chartreuse'})\n",
      "Done\n"
     ]
    }
   ],
   "source": [
    "import numpy as np\n",
    "from PIL import Image\n",
    "import matplotlib.pyplot as plt\n",
    "import warnings\n",
    "import os\n",
    "\n",
    "\n",
    "rand_im = np.random.choice(os.listdir('/home/irizqy/ml_ws/bangkit-ws/data/test'), 1)\n",
    "# rand_im = '/home/irizqy/ml_ws/bangkit-ws/data/test/2_20230507_092258.jpg'\n",
    "\n",
    "BASED_PATH = '/home/irizqy/ml_ws/bangkit-ws/data/test'\n",
    "IMAGE_PATHS = [os.path.join(BASED_PATH, im) for im in rand_im]\n",
    "IMAGE_PATHS\n",
    "\n",
    "warnings.filterwarnings('ignore')   # Suppress Matplotlib warnings\n",
    "count = 0\n",
    "\n",
    "\n",
    "def load_image_into_numpy_array(path):\n",
    "    \"\"\"Load an image from file into a numpy array.\n",
    "\n",
    "    Puts image into numpy array to feed into tensorflow graph.\n",
    "    Note that by convention we put it into a numpy array with shape\n",
    "    (height, width, channels), where channels=3 for RGB.\n",
    "\n",
    "    Args:\n",
    "      path: the file path to the image\n",
    "\n",
    "    Returns:\n",
    "      uint8 numpy array with shape (img_height, img_width, 3)\n",
    "    \"\"\"\n",
    "    return np.array(Image.open(path))\n",
    "\n",
    "\n",
    "for image_path in IMAGE_PATHS:\n",
    "\n",
    "    print('Running inference for {}... '.format(image_path), end='')\n",
    "\n",
    "    image_np = load_image_into_numpy_array(image_path)\n",
    "    \n",
    "    if image_np.shape[2] == 4:\n",
    "        image_np = image_np[:, :, :3]\n",
    "\n",
    "    # Things to try:\n",
    "    # Flip horizontally\n",
    "    # image_np = np.fliplr(image_np).copy()\n",
    "\n",
    "    # Convert image to grayscale\n",
    "    # image_np = np.tile(\n",
    "    #     np.mean(image_np, 2, keepdims=True), (1, 1, 3)).astype(np.uint8)\n",
    "\n",
    "    # The input needs to be a tensor, convert it using `tf.convert_to_tensor`.\n",
    "    input_tensor = tf.convert_to_tensor(image_np)\n",
    "    # The model expects a batch of images, so add an axis with `tf.newaxis`.\n",
    "    input_tensor = input_tensor[tf.newaxis, ...]\n",
    "\n",
    "    # input_tensor = np.expand_dims(image_np, 0)\n",
    "    detections = detect_fn(input_tensor)\n",
    "    # print(detections)\n",
    "\n",
    "    # All outputs are batches tensors.\n",
    "    # Convert to numpy arrays, and take index [0] to remove the batch dimension.\n",
    "    # We're only interested in the first num_detections.\n",
    "    num_detections = int(detections.pop('num_detections'))\n",
    "    detections = {key: value[0, :num_detections].numpy()\n",
    "                   for key, value in detections.items()}\n",
    "    detections['num_detections'] = num_detections\n",
    "\n",
    "    # detection_classes should be ints.\n",
    "    detections['detection_classes'] = detections['detection_classes'].astype(np.int64)\n",
    "\n",
    "    image_np_with_detections = image_np.copy()\n",
    "\n",
    "    viz_utils.visualize_boxes_and_labels_on_image_array(\n",
    "          image_np_with_detections,\n",
    "          detections['detection_boxes'],\n",
    "          detections['detection_classes'],\n",
    "          detections['detection_scores'],\n",
    "          category_index,\n",
    "          use_normalized_coordinates=True,\n",
    "          max_boxes_to_draw=200,\n",
    "          min_score_thresh=.35,\n",
    "          agnostic_mode=False)\n",
    "\n",
    "    plt.figure()\n",
    "    plt.imshow(image_np_with_detections)\n",
    "    im = Image.fromarray(image_np_with_detections)\n",
    "    im.save(f\"detected-logo2{count}.jpeg\")\n",
    "    count+=1\n",
    "    print('Done')\n",
    "    plt.show()\n",
    "\n",
    "# sphinx_gallery_thumbnail_number = 2"
   ]
  },
  {
   "cell_type": "code",
   "execution_count": 13,
   "metadata": {},
   "outputs": [],
   "source": [
    "import cv2 as cv"
   ]
  },
  {
   "attachments": {},
   "cell_type": "markdown",
   "metadata": {},
   "source": [
    "raw_detection_boxes <br>\n",
    "detection_scores<br>\n",
    "detection_boxes<br>\n",
    "detection_anchor_indices<br>\n",
    "raw_detection_scores<br>\n",
    "detection_classes<br>\n",
    "detection_multiclass_scores<br>\n",
    "num_detections"
   ]
  },
  {
   "cell_type": "code",
   "execution_count": 18,
   "metadata": {},
   "outputs": [
    {
     "name": "stdout",
     "output_type": "stream",
     "text": [
      "[[0.35721558 0.12918848 0.5184792  0.33591396]\n",
      " [0.34423086 0.36981094 0.5366074  0.8243288 ]\n",
      " [0.6441799  0.28194153 0.6993143  0.42303616]\n",
      " [0.32009304 0.12494234 0.6274737  0.31551147]\n",
      " [0.2835581  0.         0.5200812  0.29064035]\n",
      " [0.27727234 0.08595228 0.54685825 0.3574895 ]\n",
      " [0.3812036  0.19774021 0.52450585 0.31444985]\n",
      " [0.6627163  0.26490697 0.7153736  0.4359059 ]\n",
      " [0.6402293  0.27458945 0.7016925  0.34304735]\n",
      " [0.34428847 0.34047174 0.59808606 0.6544788 ]\n",
      " [0.6543159  0.2988727  0.7170821  0.3742255 ]\n",
      " [0.0527156  0.         0.48652053 0.8403914 ]\n",
      " [0.22740021 0.         0.5075878  0.09078757]\n",
      " [0.01471399 0.         0.14344503 0.24430864]\n",
      " [0.6704098  0.29980212 0.72714114 0.47119194]\n",
      " [0.32480323 0.1391465  0.5553546  0.6912268 ]\n",
      " [0.37108344 0.11220341 0.48924035 0.24329865]\n",
      " [0.35051182 0.24125478 0.5135213  0.32673106]\n",
      " [0.5978304  0.30074722 0.6770557  0.44694722]\n",
      " [0.3746947  0.17717218 0.44957983 0.29822165]\n",
      " [0.39216056 0.38429466 0.6587703  0.888286  ]\n",
      " [0.31425267 0.49098146 0.50908756 0.74934673]\n",
      " [0.64499384 0.27933553 0.74494976 0.46286646]\n",
      " [0.17912707 0.34695297 0.49056193 0.80686885]\n",
      " [0.31784245 0.         0.5974021  0.09961524]\n",
      " [0.27773607 0.19815946 0.36438406 0.24375117]\n",
      " [0.4257448  0.3481137  0.5059179  0.3979241 ]\n",
      " [0.41845822 0.15560797 0.5167319  0.28489888]\n",
      " [0.1454703  0.         0.5567615  0.3124131 ]\n",
      " [0.6133221  0.29029197 0.7168283  0.41562092]\n",
      " [0.3640669  0.21143202 0.4690526  0.32112688]\n",
      " [0.36931625 0.33678347 0.46803626 0.38127327]\n",
      " [0.27708372 0.         0.5499921  0.07455354]\n",
      " [0.64687586 0.31836617 0.7164291  0.40242612]\n",
      " [0.3346151  0.19079858 0.47528434 0.36980158]\n",
      " [0.3465552  0.23365912 0.4189702  0.32789937]\n",
      " [0.         0.08120656 0.4257993  1.        ]\n",
      " [0.01055042 0.         0.21812324 0.1969119 ]\n",
      " [0.38844544 0.25812054 0.5298959  0.34287173]\n",
      " [0.3598628  0.0601721  0.590842   0.27587608]\n",
      " [0.3519014  0.33119094 0.51086885 0.40120077]\n",
      " [0.38401207 0.28764755 0.4588383  0.3298049 ]\n",
      " [0.3967827  0.5332012  0.5477768  0.8523848 ]\n",
      " [0.31808934 0.64524513 0.53017014 0.82087463]\n",
      " [0.37370017 0.25013497 0.42675176 0.30899534]\n",
      " [0.29944777 0.24643415 0.3874148  0.2958802 ]\n",
      " [0.01048636 0.02000864 0.09796301 0.29800612]\n",
      " [0.41209772 0.00332732 0.6298399  0.08468623]\n",
      " [0.6264771  0.32936502 0.7074834  0.4867425 ]\n",
      " [0.63538784 0.34540915 0.6958507  0.4153148 ]\n",
      " [0.4270342  0.62875897 0.6502326  0.81989044]\n",
      " [0.29256085 0.2125683  0.3892013  0.26060003]\n",
      " [0.8572394  0.8449904  1.         0.99256766]\n",
      " [0.15740384 0.         0.41131967 0.1035462 ]\n",
      " [0.         0.14030215 0.21746266 0.8248278 ]\n",
      " [0.32657728 0.33359563 0.4330177  0.37891757]\n",
      " [0.42396846 0.         0.57995844 0.05691553]\n",
      " [0.07102512 0.         0.545156   0.1821564 ]\n",
      " [0.43936068 0.23421112 0.54630435 0.31713036]\n",
      " [0.37751985 0.34926793 0.4776125  0.393315  ]\n",
      " [0.11303517 0.07848318 0.6724769  0.36381966]\n",
      " [0.         0.         0.57574147 0.7447354 ]\n",
      " [0.         0.01228461 0.06051379 0.32980096]\n",
      " [0.00297134 0.         0.07281567 0.1697374 ]\n",
      " [0.6841751  0.16148697 0.7439144  0.32631522]\n",
      " [0.         0.06426385 0.11505935 0.44540128]\n",
      " [0.8486313  0.22370581 0.98262936 0.48821974]\n",
      " [0.8246572  0.9182859  0.9072212  0.99845415]\n",
      " [0.29046783 0.3356199  0.39102188 0.380716  ]\n",
      " [0.28545403 0.8515265  0.60515636 0.9977112 ]\n",
      " [0.29734972 0.29186004 0.38650844 0.34141928]\n",
      " [0.37977034 0.25951368 0.5350621  0.61457664]\n",
      " [0.2466949  0.         0.43465152 0.0594912 ]\n",
      " [0.6508005  0.27005526 0.71060294 0.31598404]\n",
      " [0.27919263 0.25852984 0.36418992 0.30608582]\n",
      " [0.39008734 0.32074955 0.49217203 0.3712696 ]\n",
      " [0.31999674 0.15983027 0.47446033 0.30249926]\n",
      " [0.69357    0.         1.         0.23434466]\n",
      " [0.03134343 0.         0.33128494 0.15281686]\n",
      " [0.25776297 0.49865997 0.62024593 0.78956234]\n",
      " [0.0036778  0.01825756 0.16668953 0.35184798]\n",
      " [0.87360364 0.8400531  0.9453704  0.8929186 ]\n",
      " [0.         0.22522208 0.78258514 0.7815449 ]\n",
      " [0.44636333 0.28433454 0.51911867 0.3258561 ]\n",
      " [0.36075923 0.31817877 0.42592576 0.36887515]\n",
      " [0.         0.02815086 0.20409164 0.60962254]\n",
      " [0.36025178 0.26625466 0.4145428  0.31623077]\n",
      " [0.3746215  0.34076703 0.53668964 0.43297303]\n",
      " [0.4056582  0.34206584 0.49087876 0.38204637]\n",
      " [0.6596718  0.20766754 0.7512572  0.42793655]\n",
      " [0.39459664 0.         0.6695606  0.07794639]\n",
      " [0.37874836 0.17738724 0.67632765 0.35416514]\n",
      " [0.30398548 0.19562288 0.40343565 0.24174733]\n",
      " [0.47150543 0.15319489 0.5506166  0.3556422 ]\n",
      " [0.642511   0.37529832 0.69026995 0.4185642 ]\n",
      " [0.4208982  0.2212079  0.51531523 0.32753006]\n",
      " [0.9058241  0.81179225 0.9896336  0.9774687 ]\n",
      " [0.25950631 0.17936465 0.37729958 0.23611182]\n",
      " [0.27804887 0.30404645 0.36958385 0.3511588 ]\n",
      " [0.02250595 0.7300225  0.15101318 1.        ]]\n"
     ]
    }
   ],
   "source": [
    "print(detections['detection_boxes'])"
   ]
  },
  {
   "cell_type": "code",
   "execution_count": 14,
   "metadata": {},
   "outputs": [
    {
     "data": {
      "text/plain": [
       "array([0, 1, 2])"
      ]
     },
     "execution_count": 14,
     "metadata": {},
     "output_type": "execute_result"
    }
   ],
   "source": [
    "width, height, _ = image_np.shape\n",
    "dets_index = np.where(detections['detection_scores'] >= .5)[0]\n",
    "dets_index"
   ]
  },
  {
   "cell_type": "code",
   "execution_count": 15,
   "metadata": {},
   "outputs": [],
   "source": [
    "for i in dets_index:\n",
    "    ymin, xmin, ymax, xmax = detections['detection_boxes'][i]\n",
    "    (left, right, top, bottom) = (xmin*width, xmax*width, ymin*height, ymax*height)\n",
    "    # print(int(left), int(right), int(top), int(bottom))\n",
    "    # im = cv.rectangle(image_np, (int(left), int(top)), (int(right), int(bottom)), (0, 255, 0), 3)\n",
    "    # Image.fromarray(im).save('test.jpg')\n",
    "    cropped_im = image_np[int(top):int(bottom), int(left):int(right)]\n",
    "    Image.fromarray(cropped_im).save(f'cropped-logo{i}.jpg')"
   ]
  }
 ],
 "metadata": {
  "kernelspec": {
   "display_name": "bangkit-ws",
   "language": "python",
   "name": "python3"
  },
  "language_info": {
   "codemirror_mode": {
    "name": "ipython",
    "version": 3
   },
   "file_extension": ".py",
   "mimetype": "text/x-python",
   "name": "python",
   "nbconvert_exporter": "python",
   "pygments_lexer": "ipython3",
   "version": "3.9.16"
  },
  "orig_nbformat": 4
 },
 "nbformat": 4,
 "nbformat_minor": 2
}
